{
 "cells": [
  {
   "cell_type": "code",
   "execution_count": 1,
   "id": "7af67fec-c728-4bc6-b318-c5da25d0cd6c",
   "metadata": {},
   "outputs": [],
   "source": [
    "#importing the required modules\n",
    "\n",
    "import pandas as pd\n",
    "from sklearn.model_selection import train_test_split\n",
    "from sklearn.feature_extraction.text import CountVectorizer\n",
    "from sklearn.naive_bayes import MultinomialNB\n",
    "from sklearn.svm import SVC\n",
    "from sklearn.linear_model import LogisticRegression\n",
    "from sklearn.metrics import accuracy_score\n",
    "import matplotlib.pyplot as plt\n",
    "\n"
   ]
  },
  {
   "cell_type": "code",
   "execution_count": 18,
   "id": "912bebd4-1929-4009-aa1b-ef5c6f5ac224",
   "metadata": {},
   "outputs": [
    {
     "name": "stdout",
     "output_type": "stream",
     "text": [
      "        v1                                                 v2 Unnamed: 2  \\\n",
      "0      ham  Go until jurong point, crazy.. Available only ...        NaN   \n",
      "1      ham                      Ok lar... Joking wif u oni...        NaN   \n",
      "2     spam  Free entry in 2 a wkly comp to win FA Cup fina...        NaN   \n",
      "3      ham  U dun say so early hor... U c already then say...        NaN   \n",
      "4      ham  Nah I don't think he goes to usf, he lives aro...        NaN   \n",
      "...    ...                                                ...        ...   \n",
      "5567  spam  This is the 2nd time we have tried 2 contact u...        NaN   \n",
      "5568   ham              Will Ì_ b going to esplanade fr home?        NaN   \n",
      "5569   ham  Pity, * was in mood for that. So...any other s...        NaN   \n",
      "5570   ham  The guy did some bitching but I acted like i'd...        NaN   \n",
      "5571   ham                         Rofl. Its true to its name        NaN   \n",
      "\n",
      "     Unnamed: 3 Unnamed: 4  \n",
      "0           NaN        NaN  \n",
      "1           NaN        NaN  \n",
      "2           NaN        NaN  \n",
      "3           NaN        NaN  \n",
      "4           NaN        NaN  \n",
      "...         ...        ...  \n",
      "5567        NaN        NaN  \n",
      "5568        NaN        NaN  \n",
      "5569        NaN        NaN  \n",
      "5570        NaN        NaN  \n",
      "5571        NaN        NaN  \n",
      "\n",
      "[5572 rows x 5 columns]\n"
     ]
    }
   ],
   "source": [
    "# Load dataset\n",
    "\n",
    "df = pd.read_csv('spam.csv', encoding='latin-1')\n",
    "print(df)"
   ]
  },
  {
   "cell_type": "code",
   "execution_count": null,
   "id": "eb6fc197",
   "metadata": {},
   "outputs": [],
   "source": []
  },
  {
   "cell_type": "code",
   "execution_count": 3,
   "id": "da1b741c-81d6-43e6-8873-bfe1b1674366",
   "metadata": {},
   "outputs": [],
   "source": [
    "# Data preprocessing\n",
    "\n",
    "df = df[['v1', 'v2']]\n",
    "df.columns = ['label', 'message']\n",
    "df['label'] = df['label'].map({'ham': 0, 'spam': 1})\n",
    "X = df['message']\n",
    "y = df['label']"
   ]
  },
  {
   "cell_type": "code",
   "execution_count": 4,
   "id": "1a3c4374-364c-41c5-92be-b1d7c7a243d6",
   "metadata": {},
   "outputs": [],
   "source": [
    "# Split data\n",
    "\n",
    "X_train, X_test, y_train, y_test = train_test_split(X, y, test_size=0.2, random_state=42)"
   ]
  },
  {
   "cell_type": "code",
   "execution_count": 5,
   "id": "93b772f5-d857-4c2a-badb-38cd831cae5f",
   "metadata": {},
   "outputs": [],
   "source": [
    "# Vectorize text\n",
    "\n",
    "vectorizer = CountVectorizer()\n",
    "X_train_vec = vectorizer.fit_transform(X_train)\n",
    "X_test_vec = vectorizer.transform(X_test)\n"
   ]
  },
  {
   "cell_type": "code",
   "execution_count": 6,
   "id": "fbcf503d-a460-4fcb-a3c3-338d44c3e32d",
   "metadata": {},
   "outputs": [],
   "source": [
    "# Training\n",
    "\n",
    "models = {\n",
    "    'Naive Bayes': MultinomialNB(),\n",
    "    'SVM': SVC(),\n",
    "    'Logistic Regression': LogisticRegression(max_iter=1000)\n",
    "}\n",
    "\n",
    "accuracies = {}\n",
    "\n",
    "for name, model in models.items():\n",
    "    model.fit(X_train_vec, y_train)\n",
    "    predictions = model.predict(X_test_vec)\n",
    "    accuracy = accuracy_score(y_test, predictions)\n",
    "    accuracies[name] = accuracy\n"
   ]
  },
  {
   "cell_type": "code",
   "execution_count": 7,
   "id": "7e89e79e-d4a7-4210-b58d-c4949142ce6a",
   "metadata": {},
   "outputs": [
    {
     "name": "stdout",
     "output_type": "stream",
     "text": [
      "Best Model: Naive Bayes with accuracy 0.9838565022421525\n"
     ]
    }
   ],
   "source": [
    "#  best model selection\n",
    "\n",
    "best_model_name = max(accuracies, key=accuracies.get)\n",
    "best_model = models[best_model_name]\n",
    "\n",
    "print(f\"Best Model: {best_model_name} with accuracy {accuracies[best_model_name]}\")"
   ]
  },
  {
   "cell_type": "code",
   "execution_count": 8,
   "id": "42ac3cb1-4781-404f-b935-77e1b8d0906d",
   "metadata": {},
   "outputs": [
    {
     "data": {
      "image/png": "[encoded data removed]",
      "text/plain": [
       "<Figure size 800x400 with 1 Axes>"
      ]
     },
     "metadata": {},
     "output_type": "display_data"
    }
   ],
   "source": [
    "# accuracies interpretation\n",
    "\n",
    "plt.figure(figsize=(8, 4))\n",
    "bars = plt.bar(accuracies.keys(), accuracies.values(), color=['gray', 'black', 'brown'])\n",
    "plt.xlabel('Algorithms')\n",
    "plt.ylabel('Accuracy')\n",
    "plt.title('Accuracy of Models')\n",
    "\n",
    "\n",
    "for bar in bars:\n",
    "    yval = bar.get_height()\n",
    "    plt.text(bar.get_x() + bar.get_width()/2.0, yval, round(yval, 3), va='bottom')  # va: vertical alignment\n",
    "\n",
    "plt.show()"
   ]
  },
  {
   "cell_type": "code",
   "execution_count": 9,
   "id": "e720738e-dd42-4544-ae84-af7406729caa",
   "metadata": {},
   "outputs": [],
   "source": [
    "import tkinter as tk\n",
    "from tkinter import messagebox"
   ]
  },
  {
   "cell_type": "code",
   "execution_count": 13,
   "id": "9ecfacb7-be94-4d4e-ba64-47aff928318e",
   "metadata": {},
   "outputs": [],
   "source": [
    "def classify_message():\n",
    "    user_input = entry.get()\n",
    "    if user_input:\n",
    "        user_input_vec = vectorizer.transform([user_input])\n",
    "        prediction = best_model.predict(user_input_vec)\n",
    "        result = 'Spam' if prediction[0] == 1 else 'Ham( Genuine Msg )'\n",
    "        result_label.config(text=f\"The message is classified as: {result}\", fg='white')\n",
    "    else:\n",
    "        result_label.config(text=\"Please enter a message to classify.\", fg='red')\n",
    "\n"
   ]
  },
  {
   "cell_type": "code",
   "execution_count": 16,
   "id": "42441f9b-9c88-4f43-b411-7d5b01effe3d",
   "metadata": {},
   "outputs": [],
   "source": [
    "\n",
    "# Create the UI with the requirements\n",
    "\n",
    "root = tk.Tk()\n",
    "root.title(\"Spam SMS Detection\")\n",
    "root.configure(bg='black')\n",
    "\n",
    "frame = tk.Frame(root, bg='black')\n",
    "frame.pack(pady=20)\n",
    "\n",
    "label = tk.Label(frame, text=\"Enter SMS:\", bg='black', fg='white', font=('Helvetica', 14, 'bold'))\n",
    "label.pack(side=tk.LEFT)\n",
    "\n",
    "entry = tk.Entry(frame, width=50, bg='gray', fg='white', font=('Helvetica', 12))\n",
    "entry.pack(side=tk.LEFT, padx=10)\n",
    "\n",
    "button = tk.Button(root, text=\"Classify\", command=classify_message, bg='black', fg='white', font=('Helvetica', 12, 'bold'))\n",
    "button.pack(pady=20)\n",
    "\n",
    "result_label = tk.Label(root, text=\"\", bg='black', fg='white', font=('Helvetica', 14, 'bold'))\n",
    "result_label.pack()\n",
    "\n",
    "root.mainloop()\n"
   ]
  },
  {
   "cell_type": "code",
   "execution_count": null,
   "id": "8014c7d6-df0e-435d-8103-704c6347198f",
   "metadata": {},
   "outputs": [],
   "source": []
  }
 ],
 "metadata": {
  "kernelspec": {
   "display_name": "Python 3 (ipykernel)",
   "language": "python",
   "name": "python3"
  },
  "language_info": {
   "codemirror_mode": {
    "name": "ipython",
    "version": 3
   },
   "file_extension": ".py",
   "mimetype": "text/x-python",
   "name": "python",
   "nbconvert_exporter": "python",
   "pygments_lexer": "ipython3",
   "version": "3.12.2"
  }
 },
 "nbformat": 4,
 "nbformat_minor": 5
}
